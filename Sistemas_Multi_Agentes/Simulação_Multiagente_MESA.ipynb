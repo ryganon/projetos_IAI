{
  "nbformat": 4,
  "nbformat_minor": 0,
  "metadata": {
    "colab": {
      "name": "Simulação Multiagente - MESA.ipynb",
      "provenance": [],
      "collapsed_sections": [],
      "mount_file_id": "1BvcaBvJrO_KEdhskMyvLE1JrAk8AhyK9",
      "authorship_tag": "ABX9TyOcS95/8H0iE5WCwj1/ZDRN",
      "include_colab_link": true
    },
    "kernelspec": {
      "name": "python3",
      "display_name": "Python 3"
    }
  },
  "cells": [
    {
      "cell_type": "markdown",
      "metadata": {
        "id": "view-in-github",
        "colab_type": "text"
      },
      "source": [
        "<a href=\"https://colab.research.google.com/github/ryganon/projetos_IAI/blob/master/Sistemas_Multi_Agentes/Simula%C3%A7%C3%A3o_Multiagente_MESA.ipynb\" target=\"_parent\"><img src=\"https://colab.research.google.com/assets/colab-badge.svg\" alt=\"Open In Colab\"/></a>"
      ]
    },
    {
      "cell_type": "code",
      "metadata": {
        "id": "cQjEP80w15VX"
      },
      "source": [
        "!pip install mesa"
      ],
      "execution_count": null,
      "outputs": []
    },
    {
      "cell_type": "code",
      "metadata": {
        "id": "uW0XizPSQzE8"
      },
      "source": [
        "import matplotlib as plt\n",
        "import pandas as pd\n",
        "import numpy as np\n",
        "\n",
        "from mesa import Agent, Model\n",
        "from mesa.time import RandomActivation"
      ],
      "execution_count": null,
      "outputs": []
    },
    {
      "cell_type": "markdown",
      "metadata": {
        "id": "JdNW7KpXFeyN"
      },
      "source": [
        "# Organizando dados"
      ]
    },
    {
      "cell_type": "code",
      "metadata": {
        "id": "Biky_vqYgLfY"
      },
      "source": [
        ""
      ],
      "execution_count": null,
      "outputs": []
    },
    {
      "cell_type": "code",
      "metadata": {
        "id": "9EtoXiPDgJh6"
      },
      "source": [
        "dados = pd.read_csv(\"acoes_indice_bovespa_indicadores.csv\")"
      ],
      "execution_count": null,
      "outputs": []
    },
    {
      "cell_type": "code",
      "metadata": {
        "id": "nbF5VFuVgyZd"
      },
      "source": [
        "dados[\"DATAPREGAO\"] = pd.to_datetime(dados['DATAPREGAO'])"
      ],
      "execution_count": null,
      "outputs": []
    },
    {
      "cell_type": "markdown",
      "metadata": {
        "id": "fja0USMVHoWS"
      },
      "source": [
        "# Simulação de Agentes Financeiros\n",
        "\n"
      ]
    },
    {
      "cell_type": "markdown",
      "metadata": {
        "id": "-ExlNqEdVTYz"
      },
      "source": [
        "## Classe BrokerAgent\n",
        "\n",
        "Classe responsável por coletar os dados da BOVESPA e disponibilizar para os demais agentes da simulação.\n",
        "\n",
        "**Funções:**\n",
        "\n",
        "> get_stocks()\n",
        "\n",
        "> get_stocks_by_date\n",
        "\n",
        "\n",
        "\n",
        "\n",
        "\n",
        "\n"
      ]
    },
    {
      "cell_type": "code",
      "metadata": {
        "id": "EMQqoylzWCck"
      },
      "source": [
        "class BrokerAgent:\n",
        "    \"\"\" Agente do tipo Broker que retem as informações dos dados\n",
        "        da Bovespa\n",
        "    \"\"\"\n",
        "    def __init__(self, data):\n",
        "        self.stocks = data\n",
        "        self.global_stocks = {item: 10000 for item in list(self.stocks[\"CODNEG\"].unique())}\n",
        "\n",
        "    def get_stocks(self):\n",
        "        return self.stocks\n",
        "\n",
        "    def get_stocks_by_date(self, ref_date, selected_stocks):\n",
        "\n",
        "        temp = self.stocks.loc[self.stocks[\"DATAPREGAO\"] <= ref_date]\n",
        "        return temp.loc[temp[\"CODNEG\"].isin(selected_stocks)]\n",
        "\n",
        "    def get_global_stocks(self):\n",
        "        return self.global_stocks  "
      ],
      "execution_count": null,
      "outputs": []
    },
    {
      "cell_type": "markdown",
      "metadata": {
        "id": "2JR88lVwWFGz"
      },
      "source": [
        "## Classe GenericTraderAgent\n",
        "\n",
        "Classe para implementação de todas as funções comuns a todos os agentes. \n",
        "\n",
        "A classe serve como template para a criação dos agentes especializados.\n",
        "\n",
        "**Variáveis de classe:**\n",
        "\n",
        "> broker\n",
        "\n",
        "> stocks\n",
        "\n",
        "> trading_amount (10000)\n",
        "\n",
        "> portfolio_profit\n",
        "\n",
        "**Funções:**\n",
        "\n",
        "> **get_stocks():** consulta um objeto **BrokerAgent** para receber os dados da Bovespa.\n",
        "\n",
        "> **buy_stock():** efetiva a compra de uma quantidade de ações considerando dinheiro disponível e o valor da ação no dia.\n",
        "\n",
        "> **sell_stock():** vende uma quantidade de ações considerando o valor da ação no dia."
      ]
    },
    {
      "cell_type": "code",
      "metadata": {
        "id": "dzRsZs2kXgEE"
      },
      "source": [
        "class GenericTraderAgent(Agent):\n",
        "    \"\"\" Agente de trading responsável por realizar compra e venda \n",
        "        Template para construção de novos agentes.\n",
        "        Objetos que herdam GenericTraderAgent devem implementar:\n",
        "        - função step() com estratégia\n",
        "    \"\"\"\n",
        "\n",
        "    def __init__(self, unique_id, model, broker, list_stocks):\n",
        "        super().__init__(unique_id, model)\n",
        "\n",
        "        # agente broker\n",
        "        self.broker = broker\n",
        "        \n",
        "        # inicializa portfólio\n",
        "        self.stocks = {item: 0 for item in list(self.broker.get_stocks()[\"CODNEG\"].unique())}\n",
        "        \n",
        "        # valor de investimento inicial\n",
        "        self.trading_amount = 100000\n",
        "        \n",
        "        # valor total da carteira\n",
        "        self.portfolio_profit = {item: 0 for item in list(self.broker.get_stocks()[\"CODNEG\"].unique())}\n",
        "\n",
        "        # ações para monitorar\n",
        "        self.list_stocks = list_stocks\n",
        "\n",
        "\n",
        "    def get_stocks(self):\n",
        "        # a data de referência para as ações\n",
        "        ref_date = self.model.actual_date\n",
        "        selected_stocks = self.list_stocks #[\"MGLU3\", \"VVAR3\"] # teste\n",
        "\n",
        "        return self.broker.get_stocks_by_date(ref_date, selected_stocks)\n",
        "\n",
        "    def buy_stock(self, buy_data, qty):\n",
        "        final_price = buy_data[\"PREULT\"] * qty\n",
        "\n",
        "        # se houver dinheiro\n",
        "        if final_price < self.trading_amount:\n",
        "\n",
        "            # adiciona qtde no portifolio\n",
        "            self.stocks[buy_data[\"CODNEG\"]] += qty \n",
        "            # desconta o valor da compra do amount\n",
        "            self.trading_amount -= final_price \n",
        "\n",
        "            # atualiza a carteira\n",
        "            # valor = total de acoes no portfolio * valor de ultima negociacao\n",
        "            self.portfolio_profit[buy_data[\"CODNEG\"]] = self.stocks[buy_data[\"CODNEG\"]] * buy_data[\"PREULT\"]\n",
        "            \n",
        "            print('{} \\t Agente: {} \\t < COMPRA {} > \\t {} \\t PREÇO AÇÃO = {:.2f}'.format(buy_data[\"DATAPREGAO\"], \n",
        "                                                                                          self.unique_id, \n",
        "                                                                                          qty, \n",
        "                                                                                          buy_data[\"CODNEG\"], \n",
        "                                                                                          buy_data[\"PREULT\"]))\n",
        "        \n",
        "    def sell_stock(self, sell_data, qty):\n",
        "        final_price = sell_data[\"PREULT\"] * qty\n",
        "\n",
        "        # remove qtde no portifolio\n",
        "        self.stocks[sell_data[\"CODNEG\"]] -= qty \n",
        "        \n",
        "        # retorna o valor da venda do amount\n",
        "        self.trading_amount += final_price \n",
        "\n",
        "        # atualiza a carteira\n",
        "        # valor = total de acoes no portfolio * valor de ultima negociacao\n",
        "        self.portfolio_profit[sell_data[\"CODNEG\"]] = self.stocks[sell_data[\"CODNEG\"]] * sell_data[\"PREULT\"]\n",
        "            \n",
        "        print('{} \\t Agente: {} \\t < VENDA {} > \\t {} \\t PREÇO AÇÃO = {:.2f}'.format(sell_data[\"DATAPREGAO\"], \n",
        "                                                                                     self.unique_id, \n",
        "                                                                                     qty, \n",
        "                                                                                     sell_data[\"CODNEG\"], \n",
        "                                                                                     sell_data[\"PREULT\"]))"
      ],
      "execution_count": null,
      "outputs": []
    },
    {
      "cell_type": "markdown",
      "metadata": {
        "id": "sTW2FlTUXteY"
      },
      "source": [
        "## Classe SimpleTraderAgent\n",
        "\n",
        "Classe especializada na estratégia de cruzamento de médias móveis.\n",
        "\n",
        "Herda a classe **GenericTraderAgent**.\n",
        "\n",
        "**Variáveis de classe:**\n",
        "\n",
        "> Herdadas de **GenericTraderAgent**.\n",
        "\n",
        "**Funções:**\n",
        "\n",
        "> **step():** Método do framework MESA para indicar o avanço de uma iteração na simulação. Local onde serão chamadas as funções de estratégia.\n",
        "\n",
        "> **main_strategy():** Implementação da estratéégia de compra e venda do Agente."
      ]
    },
    {
      "cell_type": "code",
      "metadata": {
        "id": "x2IR6gcPYijf"
      },
      "source": [
        "class SimpleTraderAgent(GenericTraderAgent):\n",
        "    \"\"\" Agente de negociação simples.\n",
        "        Estratégia: cruzamento de médias móveis.\n",
        "    \"\"\"\n",
        "\n",
        "    def __init__(self, unique_id, model, broker, list_stocks):\n",
        "        super().__init__(unique_id, model, broker, list_stocks)\n",
        "\n",
        "    def step(self):\n",
        "        #print(str(self.unique_id), \"iniciei\", self.model.actual_date)\n",
        "        self.main_strategy()\n",
        "\n",
        "    # cruzamento de medias moveis\n",
        "    def main_strategy(self):\n",
        "\n",
        "        # pegando os dados do papel\n",
        "        hist_data = self.get_stocks()\n",
        "        \n",
        "        \n",
        "        # verificando o valor atual da ação \n",
        "        temp_data = hist_data.loc[hist_data[\"DATAPREGAO\"] == self.model.actual_date]\n",
        "  \n",
        "        for index, row in temp_data.iterrows():\n",
        "            if row[\"SMA7\"] > row[\"SMA14\"]:\n",
        "                # executa compra\n",
        "                self.buy_stock(row, 100)\n",
        "            else:\n",
        "                self.sell_stock(row, 50)"
      ],
      "execution_count": null,
      "outputs": []
    },
    {
      "cell_type": "markdown",
      "metadata": {
        "id": "wYMRrT_eYmM2"
      },
      "source": [
        "## Classe MarketSimulationModel\n",
        "\n",
        "Classe com o modelo de simulação multiagente utilizando o MESA.\n",
        "\n",
        "Herda a classe **Model** (MESA).\n",
        "\n",
        "**Variáveis de classe:**\n",
        "\n",
        "> schedule\n",
        "\n",
        "> trading_dates\n",
        "\n",
        "> broker\n",
        "\n",
        "> N agentes da simulação\n",
        "\n",
        "**Funções:**\n",
        "\n",
        "> **step():** Método do framework MESA para indicar o avanço de uma iteração na simulação. A execução invoca todos os agentes do ambiente.\n"
      ]
    },
    {
      "cell_type": "code",
      "metadata": {
        "id": "luEsqIVPWGNR"
      },
      "source": [
        "class MarketSimulationModel(Model):\n",
        "    \"\"\" Modelo de simulação de Mercado Financeiro \"\"\"\n",
        "    \n",
        "    def __init__(self, stock_data, trading_dates):\n",
        "\n",
        "        # ativação dos agentes será aleatório \n",
        "        self.schedule = RandomActivation(self)\n",
        "        \n",
        "        # datas de negociação da simulação\n",
        "        self.trading_dates = iter(trading_dates)\n",
        "\n",
        "        # criando Broker\n",
        "        broker = BrokerAgent(stock_data)\n",
        "\n",
        "        # criando agentes\n",
        "        list_stocks = [\"MGLU3\", \"VVAR3\"] # varejo\n",
        "        ag = SimpleTraderAgent(0, self, broker, list_stocks)\n",
        "        self.schedule.add(ag)\n",
        "\n",
        "        list_stocks = [\"ITSA4\", \"BBDC4\"] # bancos \n",
        "        ag = SimpleTraderAgent(1, self, broker, list_stocks)\n",
        "        self.schedule.add(ag)\n",
        "\n",
        "        #ag = SimpleTraderAgent(2, self, broker)\n",
        "        #self.schedule.add(ag)\n",
        "\n",
        "    def step(self):\n",
        "        '''Executa operações para um novo dia '''\n",
        "        self.actual_date = next(self.trading_dates)\n",
        "        self.schedule.step()"
      ],
      "execution_count": null,
      "outputs": []
    },
    {
      "cell_type": "markdown",
      "metadata": {
        "id": "TLiIcEHNZRga"
      },
      "source": [
        "## Execução do sistema\n",
        "\n",
        "Etapas:\n",
        "\n",
        "* Definição das datas da simulação.\n",
        "* Inicialização do modelo de simuação.\n",
        "* Execução do processo iterativo de simulação por data."
      ]
    },
    {
      "cell_type": "code",
      "metadata": {
        "id": "S5y6OwkrJg9N"
      },
      "source": [
        "# Data inicial da simulação\n",
        "start_at = pd.to_datetime(\"2019-10-20\")\n",
        "# Data final da simulação\n",
        "end_at = pd.to_datetime(\"2019-11-25\")\n",
        "\n",
        "datas = list(pd.date_range(start_at, end_at))"
      ],
      "execution_count": null,
      "outputs": []
    },
    {
      "cell_type": "code",
      "metadata": {
        "id": "hi-8EOaXJ9Kl",
        "outputId": "87580cab-c55f-4c1c-833f-2144a8e1f69b",
        "colab": {
          "base_uri": "https://localhost:8080/",
          "height": 1000
        }
      },
      "source": [
        "# criando modelo de simulação\n",
        "modelo = MarketSimulationModel(dados, datas)\n",
        "\n",
        "# total de agentes na simulação\n",
        "total_agentes = len(modelo.schedule.agents)\n",
        "\n",
        "# exibindo dados\n",
        "for i in range(total_agentes):\n",
        "    print(\"Agente \", i)\n",
        "    print(\"\\t Patrimônio inicial:\", modelo.schedule.agents[i].trading_amount)\n",
        "    print(\"\\n\")\n",
        "\n",
        "# executando a simulação\n",
        "for i in range(len(datas)):\n",
        "    modelo.step()\n",
        "\n",
        "# exibindo resultados\n",
        "for i in range(total_agentes):\n",
        "    print(\"\\nAgente \", i, modelo.schedule.agents[i].list_stocks)\n",
        "    amount = modelo.schedule.agents[i].trading_amount\n",
        "    profit = sum(modelo.schedule.agents[i].portfolio_profit.values())\n",
        "    print(\"\\t Patrimônio final:\", amount)\n",
        "    print(\"\\t Valor da carteira de ações:\", profit)\n",
        "    print(\"\\t Total: \", amount + profit)\n"
      ],
      "execution_count": null,
      "outputs": [
        {
          "output_type": "stream",
          "text": [
            "Agente  0\n",
            "\t Patrimônio inicial: 100000\n",
            "\n",
            "\n",
            "Agente  1\n",
            "\t Patrimônio inicial: 100000\n",
            "\n",
            "\n",
            "2019-10-21 00:00:00 \t Agente: 1 \t < COMPRA 100 > \t BBDC4 \t PREÇO AÇÃO = 34.03\n",
            "2019-10-21 00:00:00 \t Agente: 1 \t < COMPRA 100 > \t ITSA4 \t PREÇO AÇÃO = 13.26\n",
            "2019-10-21 00:00:00 \t Agente: 0 \t < COMPRA 100 > \t MGLU3 \t PREÇO AÇÃO = 43.10\n",
            "2019-10-21 00:00:00 \t Agente: 0 \t < COMPRA 100 > \t VVAR3 \t PREÇO AÇÃO = 7.81\n",
            "2019-10-22 00:00:00 \t Agente: 1 \t < COMPRA 100 > \t BBDC4 \t PREÇO AÇÃO = 35.00\n",
            "2019-10-22 00:00:00 \t Agente: 1 \t < COMPRA 100 > \t ITSA4 \t PREÇO AÇÃO = 13.56\n",
            "2019-10-22 00:00:00 \t Agente: 0 \t < COMPRA 100 > \t MGLU3 \t PREÇO AÇÃO = 43.72\n",
            "2019-10-22 00:00:00 \t Agente: 0 \t < COMPRA 100 > \t VVAR3 \t PREÇO AÇÃO = 7.81\n",
            "2019-10-23 00:00:00 \t Agente: 1 \t < COMPRA 100 > \t BBDC4 \t PREÇO AÇÃO = 35.30\n",
            "2019-10-23 00:00:00 \t Agente: 1 \t < COMPRA 100 > \t ITSA4 \t PREÇO AÇÃO = 13.66\n",
            "2019-10-23 00:00:00 \t Agente: 0 \t < COMPRA 100 > \t MGLU3 \t PREÇO AÇÃO = 43.49\n",
            "2019-10-23 00:00:00 \t Agente: 0 \t < COMPRA 100 > \t VVAR3 \t PREÇO AÇÃO = 7.65\n",
            "2019-10-24 00:00:00 \t Agente: 0 \t < COMPRA 100 > \t MGLU3 \t PREÇO AÇÃO = 43.25\n",
            "2019-10-24 00:00:00 \t Agente: 0 \t < COMPRA 100 > \t VVAR3 \t PREÇO AÇÃO = 7.49\n",
            "2019-10-24 00:00:00 \t Agente: 1 \t < COMPRA 100 > \t BBDC4 \t PREÇO AÇÃO = 35.26\n",
            "2019-10-24 00:00:00 \t Agente: 1 \t < COMPRA 100 > \t ITSA4 \t PREÇO AÇÃO = 13.65\n",
            "2019-10-25 00:00:00 \t Agente: 1 \t < COMPRA 100 > \t BBDC4 \t PREÇO AÇÃO = 35.72\n",
            "2019-10-25 00:00:00 \t Agente: 1 \t < COMPRA 100 > \t ITSA4 \t PREÇO AÇÃO = 13.79\n",
            "2019-10-25 00:00:00 \t Agente: 0 \t < COMPRA 100 > \t MGLU3 \t PREÇO AÇÃO = 42.00\n",
            "2019-10-25 00:00:00 \t Agente: 0 \t < VENDA 50 > \t VVAR3 \t PREÇO AÇÃO = 7.43\n",
            "2019-10-28 00:00:00 \t Agente: 0 \t < COMPRA 100 > \t MGLU3 \t PREÇO AÇÃO = 42.67\n",
            "2019-10-28 00:00:00 \t Agente: 0 \t < VENDA 50 > \t VVAR3 \t PREÇO AÇÃO = 7.36\n",
            "2019-10-28 00:00:00 \t Agente: 1 \t < COMPRA 100 > \t BBDC4 \t PREÇO AÇÃO = 37.01\n",
            "2019-10-28 00:00:00 \t Agente: 1 \t < COMPRA 100 > \t ITSA4 \t PREÇO AÇÃO = 13.91\n",
            "2019-10-29 00:00:00 \t Agente: 0 \t < COMPRA 100 > \t MGLU3 \t PREÇO AÇÃO = 41.15\n",
            "2019-10-29 00:00:00 \t Agente: 0 \t < VENDA 50 > \t VVAR3 \t PREÇO AÇÃO = 7.35\n",
            "2019-10-29 00:00:00 \t Agente: 1 \t < COMPRA 100 > \t BBDC4 \t PREÇO AÇÃO = 36.50\n",
            "2019-10-29 00:00:00 \t Agente: 1 \t < COMPRA 100 > \t ITSA4 \t PREÇO AÇÃO = 13.78\n",
            "2019-10-30 00:00:00 \t Agente: 1 \t < COMPRA 100 > \t BBDC4 \t PREÇO AÇÃO = 36.67\n",
            "2019-10-30 00:00:00 \t Agente: 1 \t < COMPRA 100 > \t ITSA4 \t PREÇO AÇÃO = 13.95\n",
            "2019-10-30 00:00:00 \t Agente: 0 \t < COMPRA 100 > \t MGLU3 \t PREÇO AÇÃO = 44.02\n",
            "2019-10-30 00:00:00 \t Agente: 0 \t < VENDA 50 > \t VVAR3 \t PREÇO AÇÃO = 7.40\n",
            "2019-10-31 00:00:00 \t Agente: 1 \t < COMPRA 100 > \t BBDC4 \t PREÇO AÇÃO = 35.17\n",
            "2019-10-31 00:00:00 \t Agente: 1 \t < COMPRA 100 > \t ITSA4 \t PREÇO AÇÃO = 13.71\n",
            "2019-10-31 00:00:00 \t Agente: 0 \t < COMPRA 100 > \t MGLU3 \t PREÇO AÇÃO = 44.64\n",
            "2019-10-31 00:00:00 \t Agente: 0 \t < VENDA 50 > \t VVAR3 \t PREÇO AÇÃO = 7.42\n",
            "2019-11-01 00:00:00 \t Agente: 1 \t < COMPRA 100 > \t BBDC4 \t PREÇO AÇÃO = 34.87\n",
            "2019-11-01 00:00:00 \t Agente: 1 \t < COMPRA 100 > \t ITSA4 \t PREÇO AÇÃO = 13.76\n",
            "2019-11-01 00:00:00 \t Agente: 0 \t < COMPRA 100 > \t MGLU3 \t PREÇO AÇÃO = 47.19\n",
            "2019-11-01 00:00:00 \t Agente: 0 \t < VENDA 50 > \t VVAR3 \t PREÇO AÇÃO = 7.64\n",
            "2019-11-04 00:00:00 \t Agente: 1 \t < COMPRA 100 > \t BBDC4 \t PREÇO AÇÃO = 34.89\n",
            "2019-11-04 00:00:00 \t Agente: 1 \t < COMPRA 100 > \t ITSA4 \t PREÇO AÇÃO = 13.90\n",
            "2019-11-04 00:00:00 \t Agente: 0 \t < COMPRA 100 > \t MGLU3 \t PREÇO AÇÃO = 44.97\n",
            "2019-11-04 00:00:00 \t Agente: 0 \t < VENDA 50 > \t VVAR3 \t PREÇO AÇÃO = 7.57\n",
            "2019-11-05 00:00:00 \t Agente: 1 \t < COMPRA 100 > \t BBDC4 \t PREÇO AÇÃO = 35.36\n",
            "2019-11-05 00:00:00 \t Agente: 1 \t < COMPRA 100 > \t ITSA4 \t PREÇO AÇÃO = 14.07\n",
            "2019-11-05 00:00:00 \t Agente: 0 \t < COMPRA 100 > \t MGLU3 \t PREÇO AÇÃO = 44.04\n",
            "2019-11-05 00:00:00 \t Agente: 0 \t < VENDA 50 > \t VVAR3 \t PREÇO AÇÃO = 7.38\n",
            "2019-11-06 00:00:00 \t Agente: 1 \t < COMPRA 100 > \t BBDC4 \t PREÇO AÇÃO = 35.17\n",
            "2019-11-06 00:00:00 \t Agente: 1 \t < COMPRA 100 > \t ITSA4 \t PREÇO AÇÃO = 13.96\n",
            "2019-11-06 00:00:00 \t Agente: 0 \t < COMPRA 100 > \t MGLU3 \t PREÇO AÇÃO = 45.20\n",
            "2019-11-06 00:00:00 \t Agente: 0 \t < VENDA 50 > \t VVAR3 \t PREÇO AÇÃO = 7.45\n",
            "2019-11-07 00:00:00 \t Agente: 0 \t < COMPRA 100 > \t MGLU3 \t PREÇO AÇÃO = 44.20\n",
            "2019-11-07 00:00:00 \t Agente: 0 \t < VENDA 50 > \t VVAR3 \t PREÇO AÇÃO = 7.42\n",
            "2019-11-07 00:00:00 \t Agente: 1 \t < VENDA 50 > \t BBDC4 \t PREÇO AÇÃO = 35.26\n",
            "2019-11-07 00:00:00 \t Agente: 1 \t < COMPRA 100 > \t ITSA4 \t PREÇO AÇÃO = 13.94\n",
            "2019-11-08 00:00:00 \t Agente: 0 \t < COMPRA 100 > \t MGLU3 \t PREÇO AÇÃO = 43.81\n",
            "2019-11-08 00:00:00 \t Agente: 0 \t < VENDA 50 > \t VVAR3 \t PREÇO AÇÃO = 7.25\n",
            "2019-11-08 00:00:00 \t Agente: 1 \t < VENDA 50 > \t BBDC4 \t PREÇO AÇÃO = 34.24\n",
            "2019-11-08 00:00:00 \t Agente: 1 \t < COMPRA 100 > \t ITSA4 \t PREÇO AÇÃO = 13.76\n",
            "2019-11-11 00:00:00 \t Agente: 0 \t < COMPRA 100 > \t MGLU3 \t PREÇO AÇÃO = 45.02\n",
            "2019-11-11 00:00:00 \t Agente: 0 \t < VENDA 50 > \t VVAR3 \t PREÇO AÇÃO = 7.31\n",
            "2019-11-11 00:00:00 \t Agente: 1 \t < VENDA 50 > \t BBDC4 \t PREÇO AÇÃO = 34.16\n",
            "2019-11-11 00:00:00 \t Agente: 1 \t < COMPRA 100 > \t ITSA4 \t PREÇO AÇÃO = 13.89\n",
            "2019-11-12 00:00:00 \t Agente: 1 \t < VENDA 50 > \t BBDC4 \t PREÇO AÇÃO = 33.84\n",
            "2019-11-12 00:00:00 \t Agente: 1 \t < COMPRA 100 > \t ITSA4 \t PREÇO AÇÃO = 13.73\n",
            "2019-11-12 00:00:00 \t Agente: 0 \t < COMPRA 100 > \t MGLU3 \t PREÇO AÇÃO = 43.40\n",
            "2019-11-12 00:00:00 \t Agente: 0 \t < VENDA 50 > \t VVAR3 \t PREÇO AÇÃO = 7.09\n",
            "2019-11-13 00:00:00 \t Agente: 1 \t < VENDA 50 > \t BBDC4 \t PREÇO AÇÃO = 33.49\n",
            "2019-11-13 00:00:00 \t Agente: 1 \t < COMPRA 100 > \t ITSA4 \t PREÇO AÇÃO = 13.50\n",
            "2019-11-13 00:00:00 \t Agente: 0 \t < COMPRA 100 > \t MGLU3 \t PREÇO AÇÃO = 42.50\n",
            "2019-11-13 00:00:00 \t Agente: 0 \t < VENDA 50 > \t VVAR3 \t PREÇO AÇÃO = 7.02\n",
            "2019-11-14 00:00:00 \t Agente: 1 \t < VENDA 50 > \t BBDC4 \t PREÇO AÇÃO = 33.35\n",
            "2019-11-14 00:00:00 \t Agente: 1 \t < VENDA 50 > \t ITSA4 \t PREÇO AÇÃO = 13.63\n",
            "2019-11-14 00:00:00 \t Agente: 0 \t < VENDA 50 > \t MGLU3 \t PREÇO AÇÃO = 44.25\n",
            "2019-11-14 00:00:00 \t Agente: 0 \t < VENDA 50 > \t VVAR3 \t PREÇO AÇÃO = 7.60\n",
            "2019-11-18 00:00:00 \t Agente: 1 \t < VENDA 50 > \t BBDC4 \t PREÇO AÇÃO = 33.13\n",
            "2019-11-18 00:00:00 \t Agente: 1 \t < VENDA 50 > \t ITSA4 \t PREÇO AÇÃO = 13.60\n",
            "2019-11-18 00:00:00 \t Agente: 0 \t < VENDA 50 > \t MGLU3 \t PREÇO AÇÃO = 44.98\n",
            "2019-11-18 00:00:00 \t Agente: 0 \t < VENDA 50 > \t VVAR3 \t PREÇO AÇÃO = 7.56\n",
            "2019-11-19 00:00:00 \t Agente: 0 \t < VENDA 50 > \t MGLU3 \t PREÇO AÇÃO = 44.52\n",
            "2019-11-19 00:00:00 \t Agente: 0 \t < VENDA 50 > \t VVAR3 \t PREÇO AÇÃO = 7.45\n",
            "2019-11-19 00:00:00 \t Agente: 1 \t < VENDA 50 > \t BBDC4 \t PREÇO AÇÃO = 33.07\n",
            "2019-11-19 00:00:00 \t Agente: 1 \t < VENDA 50 > \t ITSA4 \t PREÇO AÇÃO = 13.42\n",
            "2019-11-21 00:00:00 \t Agente: 1 \t < VENDA 50 > \t BBDC4 \t PREÇO AÇÃO = 33.26\n",
            "2019-11-21 00:00:00 \t Agente: 1 \t < VENDA 50 > \t ITSA4 \t PREÇO AÇÃO = 13.51\n",
            "2019-11-21 00:00:00 \t Agente: 0 \t < VENDA 50 > \t MGLU3 \t PREÇO AÇÃO = 45.00\n",
            "2019-11-21 00:00:00 \t Agente: 0 \t < VENDA 50 > \t VVAR3 \t PREÇO AÇÃO = 7.55\n",
            "2019-11-22 00:00:00 \t Agente: 1 \t < VENDA 50 > \t BBDC4 \t PREÇO AÇÃO = 33.81\n",
            "2019-11-22 00:00:00 \t Agente: 1 \t < VENDA 50 > \t ITSA4 \t PREÇO AÇÃO = 13.71\n",
            "2019-11-22 00:00:00 \t Agente: 0 \t < VENDA 50 > \t MGLU3 \t PREÇO AÇÃO = 45.49\n",
            "2019-11-22 00:00:00 \t Agente: 0 \t < COMPRA 100 > \t VVAR3 \t PREÇO AÇÃO = 7.86\n",
            "2019-11-25 00:00:00 \t Agente: 1 \t < VENDA 50 > \t BBDC4 \t PREÇO AÇÃO = 33.64\n",
            "2019-11-25 00:00:00 \t Agente: 1 \t < VENDA 50 > \t ITSA4 \t PREÇO AÇÃO = 13.38\n",
            "2019-11-25 00:00:00 \t Agente: 0 \t < COMPRA 100 > \t MGLU3 \t PREÇO AÇÃO = 44.30\n",
            "2019-11-25 00:00:00 \t Agente: 0 \t < COMPRA 100 > \t VVAR3 \t PREÇO AÇÃO = 7.93\n",
            "\n",
            "Agente  0 ['MGLU3', 'VVAR3']\n",
            "\t Patrimônio final: 29952.5\n",
            "\t Valor da carteira de ações: 70716.0\n",
            "\t Total:  100668.5\n",
            "\n",
            "Agente  1 ['ITSA4', 'BBDC4']\n",
            "\t Patrimônio final: 51752.0\n",
            "\t Valor da carteira de ações: 45300.0\n",
            "\t Total:  97052.0\n"
          ],
          "name": "stdout"
        }
      ]
    }
  ]
}