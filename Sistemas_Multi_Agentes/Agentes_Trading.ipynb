{
  "nbformat": 4,
  "nbformat_minor": 0,
  "metadata": {
    "colab": {
      "name": "Agentes - Trading.ipynb",
      "provenance": [],
      "collapsed_sections": [],
      "mount_file_id": "191uZ-TdlycN6RTANsz51JNrjDbf-pK5E",
      "authorship_tag": "ABX9TyPCt3rTNoCvYpU3cI691N7j",
      "include_colab_link": true
    },
    "kernelspec": {
      "name": "python3",
      "display_name": "Python 3"
    }
  },
  "cells": [
    {
      "cell_type": "markdown",
      "metadata": {
        "id": "view-in-github",
        "colab_type": "text"
      },
      "source": [
        "<a href=\"https://colab.research.google.com/github/ryganon/projetos_IAI/blob/master/Sistemas_Multi_Agentes/Agentes_Trading.ipynb\" target=\"_parent\"><img src=\"https://colab.research.google.com/assets/colab-badge.svg\" alt=\"Open In Colab\"/></a>"
      ]
    },
    {
      "cell_type": "markdown",
      "metadata": {
        "id": "o1TyL0UcgAio"
      },
      "source": [
        "# Configuração"
      ]
    },
    {
      "cell_type": "code",
      "metadata": {
        "id": "lcKnpRQJ6TBK"
      },
      "source": [
        "!pip install backtrader"
      ],
      "execution_count": null,
      "outputs": []
    },
    {
      "cell_type": "code",
      "metadata": {
        "id": "l7uiu-I7f0Jk"
      },
      "source": [
        "import matplotlib as plt\n",
        "import pandas as pd\n",
        "import numpy as np\n",
        "import backtrader as bt"
      ],
      "execution_count": 85,
      "outputs": []
    },
    {
      "cell_type": "code",
      "metadata": {
        "id": "Biky_vqYgLfY"
      },
      "source": [
        ""
      ],
      "execution_count": 2,
      "outputs": []
    },
    {
      "cell_type": "code",
      "metadata": {
        "id": "9EtoXiPDgJh6"
      },
      "source": [
        "dados = pd.read_csv(\"acoes_indice_bovespa_indicadores.csv\")"
      ],
      "execution_count": 5,
      "outputs": []
    },
    {
      "cell_type": "code",
      "metadata": {
        "id": "nbF5VFuVgyZd"
      },
      "source": [
        "dados[\"DATAPREGAO\"] = pd.to_datetime(dados['DATAPREGAO'])"
      ],
      "execution_count": 32,
      "outputs": []
    },
    {
      "cell_type": "markdown",
      "metadata": {
        "id": "vwsua_kIgEFQ"
      },
      "source": [
        "# Modelagem dos agentes\n",
        "\n",
        "* Datas: https://towardsdatascience.com/working-with-datetime-in-pandas-dataframe-663f7af6c587\n",
        "* Criando SMA ou EMA: https://towardsdatascience.com/making-a-trade-call-using-simple-moving-average-sma-crossover-strategy-python-implementation-29963326da7a"
      ]
    },
    {
      "cell_type": "code",
      "metadata": {
        "id": "lWlDK_HTgDxP"
      },
      "source": [
        "class BrokerAgent:\n",
        "    def __init__(self, data):\n",
        "        self.stocks = data\n",
        "        self.global_stocks = {item: 10000 for item in list(self.stocks[\"CODNEG\"].unique())}\n",
        "\n",
        "    def get_stocks(self):\n",
        "        return self.stocks\n",
        "\n",
        "    def get_stocks_by_date(self, ref_date, selected_stocks):\n",
        "        #return self.stocks.loc[self.stocks[\"DATAPREGAO\"] <= ref_date]\n",
        "\n",
        "        temp = self.stocks.loc[self.stocks[\"DATAPREGAO\"] <= ref_date]\n",
        "        return temp.loc[temp[\"CODNEG\"].isin(selected_stocks)]\n",
        "\n",
        "    def get_global_stocks(self):\n",
        "        return self.global_stocks    "
      ],
      "execution_count": 156,
      "outputs": []
    },
    {
      "cell_type": "code",
      "metadata": {
        "id": "aytl8Lvd3wDI"
      },
      "source": [
        "class TradingAgent:\n",
        "    def __init__(self, broker):\n",
        "        # agente broker\n",
        "        self.broker = broker\n",
        "\n",
        "        # inicializa portfólio\n",
        "        self.stocks = {item: 0 for item in list(self.broker.get_stocks()[\"CODNEG\"].unique())}\n",
        "\n",
        "        # valor de investimento inicial\n",
        "        self.trading_amount = 10000\n",
        "\n",
        "        # valor total da carteira\n",
        "        self.portfolio_profit = {item: 0 for item in list(self.broker.get_stocks()[\"CODNEG\"].unique())}\n",
        "\n",
        "        \n",
        "    def working_date(self, ref_date):\n",
        "        self.ref_date = ref_date\n",
        "\n",
        "    def working_stocks(self, selected_stocks):\n",
        "        self.selected_stocks = selected_stocks\n",
        "\n",
        "    def get_stocks(self):\n",
        "        return self.broker.get_stocks_by_date(self.ref_date, self.selected_stocks)\n",
        "\n",
        "\n",
        "class TradingAgentSimple(TradingAgent):\n",
        "\n",
        "    def buy_stock(self, buy_data, qty):\n",
        "        final_price = buy_data[\"PREULT\"] * qty\n",
        "\n",
        "        # se houver dinheiro\n",
        "        if final_price < self.trading_amount:\n",
        "\n",
        "            # adiciona qtde no portifolio\n",
        "            self.stocks[buy_data[\"CODNEG\"]] += qty \n",
        "            # desconta o valor da compra do amount\n",
        "            self.trading_amount -= final_price \n",
        "\n",
        "            # atualiza a carteira\n",
        "            # valor = total de acoes no portfolio * valor de ultima negociacao\n",
        "            self.portfolio_profit[buy_data[\"CODNEG\"]] = self.stocks[buy_data[\"CODNEG\"]] * buy_data[\"PREULT\"]\n",
        "            \n",
        "            print('{} \\t < COMPRA > \\t {} \\t SMA7 = {:.2f} \\t SMA14 = {:.2f}'.format(buy_data[\"DATAPREGAO\"], buy_data[\"CODNEG\"], buy_data[\"SMA7\"], buy_data[\"SMA14\"]))\n",
        "        \n",
        "\n",
        "    def sell_stock(self, sell_data, qty):\n",
        "        final_price = sell_data[\"PREULT\"] * qty\n",
        "\n",
        "        # remove qtde no portifolio\n",
        "        self.stocks[sell_data[\"CODNEG\"]] -= qty \n",
        "        \n",
        "        # retorna o valor da venda do amount\n",
        "        self.trading_amount += final_price \n",
        "\n",
        "        # atualiza a carteira\n",
        "        # valor = total de acoes no portfolio * valor de ultima negociacao\n",
        "        self.portfolio_profit[sell_data[\"CODNEG\"]] = self.stocks[sell_data[\"CODNEG\"]] * sell_data[\"PREULT\"]\n",
        "            \n",
        "        print('{} \\t < VENDA > \\t {} \\t SMA7 = {:.2f} \\t SMA14 = {:.2f}'.format(sell_data[\"DATAPREGAO\"], sell_data[\"CODNEG\"], sell_data[\"SMA7\"], sell_data[\"SMA14\"]))\n",
        "    \n",
        "\n",
        "    # cruzamento de medias moveis\n",
        "    def main_strategy(self):\n",
        "        # pegando os dados do papel\n",
        "        hist_data = self.get_stocks()\n",
        "        \n",
        "        # verificando o valor atual da ação \n",
        "        temp_data = hist_data.loc[hist_data[\"DATAPREGAO\"] == self.ref_date]\n",
        "\n",
        "        for index, row in temp_data.iterrows():\n",
        "            if row[\"SMA7\"] > row[\"SMA14\"]:\n",
        "                # executa compra\n",
        "                self.buy_stock(row, 100)\n",
        "            else:\n",
        "                self.sell_stock(row, 100)\n",
        "            \n",
        "            \n",
        "\n",
        "        "
      ],
      "execution_count": 253,
      "outputs": []
    },
    {
      "cell_type": "markdown",
      "metadata": {
        "id": "N_2X7ad16MCv"
      },
      "source": [
        "# Testando os Agentes"
      ]
    },
    {
      "cell_type": "code",
      "metadata": {
        "id": "PqTxx-FRiSFb"
      },
      "source": [
        "broker = BrokerAgent(dados)"
      ],
      "execution_count": 158,
      "outputs": []
    },
    {
      "cell_type": "code",
      "metadata": {
        "id": "nO-ybX0YXk0y",
        "outputId": "71470aac-529c-49fc-bc6f-0744db52c882",
        "colab": {
          "base_uri": "https://localhost:8080/",
          "height": 312
        }
      },
      "source": [
        "# Criando um Agente Simples\n",
        "simple_agent = TradingAgentSimple(broker)\n",
        "\n",
        "# Definindo as ações que serão negociadas\n",
        "simple_agent.working_stocks([\"MGLU3\", \"VVAR3\"])\n",
        "\n",
        "print(\"Valor disponível para investimentos:\", simple_agent.trading_amount)\n",
        "print(\"Valorização da carteira:\", sum(simple_agent.portfolio_profit.values()))\n",
        "\n",
        "# Data inicial da simulação\n",
        "start_at = pd.to_datetime(\"2019-10-20\")\n",
        "# Data final da simulação\n",
        "end_at = pd.to_datetime(\"2019-10-25\")\n",
        "\n",
        "print(\"\\nINICIANDO SIMULAÇÃO \\n\")\n",
        "print(\"Data - Tipo Op. - Sigla - SMA7 - SMA14 \\n\")\n",
        "\n",
        "# inicia a simulação\n",
        "for trading_day in list(pd.date_range(start_at, end_at)):\n",
        "    simple_agent.working_date(trading_day)\n",
        "    simple_agent.main_strategy()\n",
        "\n",
        "print(\"\\nFIM SIMULAÇÃO \\n\")\n",
        "\n",
        "print(\"Valor disponível para investimentos:\", simple_agent.trading_amount)\n",
        "print(\"Valor da carteira:\", sum(simple_agent.portfolio_profit.values()))\n",
        "print(\"Valorização total: \", sum(simple_agent.portfolio_profit.values()) + simple_agent.trading_amount)"
      ],
      "execution_count": 254,
      "outputs": [
        {
          "output_type": "stream",
          "text": [
            "Valor disponível para investimentos: 10000\n",
            "Valorização da carteira: 0\n",
            "\n",
            "INICIANDO SIMULAÇÃO \n",
            "\n",
            "Data - Tipo Op. - Sigla - SMA7 - SMA14 \n",
            "\n",
            "2019-10-21 00:00:00 \t < COMPRA > \t MGLU3 \t SMA7 = 42.36 \t SMA14 = 40.29\n",
            "2019-10-21 00:00:00 \t < COMPRA > \t VVAR3 \t SMA7 = 7.81 \t SMA14 = 7.75\n",
            "2019-10-22 00:00:00 \t < COMPRA > \t MGLU3 \t SMA7 = 42.82 \t SMA14 = 40.81\n",
            "2019-10-25 00:00:00 \t < VENDA > \t VVAR3 \t SMA7 = 7.70 \t SMA14 = 7.71\n",
            "\n",
            "FIM SIMULAÇÃO \n",
            "\n",
            "Valor disponível para investimentos: 1280.0\n",
            "Valor da carteira: 8744.0\n",
            "Valorização total:  10024.0\n"
          ],
          "name": "stdout"
        }
      ]
    },
    {
      "cell_type": "code",
      "metadata": {
        "id": "9ZZN1WSUpnrG",
        "outputId": "4ffe5e8d-389d-42f6-9934-a1eaeaceafdf",
        "colab": {
          "base_uri": "https://localhost:8080/",
          "height": 52
        }
      },
      "source": [
        "for acao in simple_agent.selected_stocks:\n",
        "    print(acao,  \"QTDE:\", simple_agent.stocks[acao], \"VALOR TOTAL:\", simple_agent.portfolio_profit[acao])"
      ],
      "execution_count": 255,
      "outputs": [
        {
          "output_type": "stream",
          "text": [
            "MGLU3 QTDE: 200 VALOR TOTAL: 8744.0\n",
            "VVAR3 QTDE: 0 VALOR TOTAL: 0.0\n"
          ],
          "name": "stdout"
        }
      ]
    }
  ]
}